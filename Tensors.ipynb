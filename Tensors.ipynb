{
  "nbformat": 4,
  "nbformat_minor": 0,
  "metadata": {
    "colab": {
      "provenance": [],
      "gpuType": "T4",
      "authorship_tag": "ABX9TyPV+Qba/l+umYjDGXEaNSMM",
      "include_colab_link": true
    },
    "kernelspec": {
      "name": "python3",
      "display_name": "Python 3"
    },
    "language_info": {
      "name": "python"
    },
    "accelerator": "GPU"
  },
  "cells": [
    {
      "cell_type": "markdown",
      "metadata": {
        "id": "view-in-github",
        "colab_type": "text"
      },
      "source": [
        "<a href=\"https://colab.research.google.com/github/sinngam-khaidem/Deep-Learning-with-Pytorch/blob/main/Tensors.ipynb\" target=\"_parent\"><img src=\"https://colab.research.google.com/assets/colab-badge.svg\" alt=\"Open In Colab\"/></a>"
      ]
    },
    {
      "cell_type": "code",
      "execution_count": 1,
      "metadata": {
        "colab": {
          "base_uri": "https://localhost:8080/"
        },
        "id": "laCuforWtfP8",
        "outputId": "879cf2e7-0558-43b6-824e-0e97a219012f"
      },
      "outputs": [
        {
          "output_type": "stream",
          "name": "stdout",
          "text": [
            "True\n",
            "tensor([[0.2877, 0.9990],\n",
            "        [0.5960, 0.7621]])\n"
          ]
        }
      ],
      "source": [
        "import torch\n",
        "print(torch.cuda.is_available())\n",
        "print(torch.rand(2,2))"
      ]
    },
    {
      "cell_type": "markdown",
      "source": [
        "# Tensors\n",
        "Multidimensional arrays. Every tensor has a rank.\\\n",
        "Scaler - Rank 0 tensor\\\n",
        "Vector - Rank 1 tensor\\\n",
        "n * n matrix - Rank 2 tensor\n"
      ],
      "metadata": {
        "id": "sqA-u59wvoKF"
      }
    },
    {
      "cell_type": "code",
      "source": [
        "# Tensor from lists\n",
        "x = torch.tensor([[0,0,1], [1,1,1], [0,0,0]])\n",
        "x"
      ],
      "metadata": {
        "colab": {
          "base_uri": "https://localhost:8080/"
        },
        "id": "Y8eZWAd-vaq9",
        "outputId": "9124bd0e-16fd-49c5-9c42-29117ec30120"
      },
      "execution_count": 3,
      "outputs": [
        {
          "output_type": "execute_result",
          "data": {
            "text/plain": [
              "tensor([[0, 0, 1],\n",
              "        [1, 1, 1],\n",
              "        [0, 0, 0]])"
            ]
          },
          "metadata": {},
          "execution_count": 3
        }
      ]
    },
    {
      "cell_type": "markdown",
      "source": [
        "Tensor elements can be changeed using python indexing."
      ],
      "metadata": {
        "id": "PRMxZQP-wpLj"
      }
    },
    {
      "cell_type": "code",
      "source": [
        "x[0][1] = -5555\n",
        "x"
      ],
      "metadata": {
        "colab": {
          "base_uri": "https://localhost:8080/"
        },
        "id": "7jyHdOojwi5b",
        "outputId": "ae15a7e1-34ab-4d24-e1c6-6349efdcb6e4"
      },
      "execution_count": 4,
      "outputs": [
        {
          "output_type": "execute_result",
          "data": {
            "text/plain": [
              "tensor([[    0, -5555,     1],\n",
              "        [    1,     1,     1],\n",
              "        [    0,     0,     0]])"
            ]
          },
          "metadata": {},
          "execution_count": 4
        }
      ]
    },
    {
      "cell_type": "markdown",
      "source": [
        "torch.ones(n,m), torch.zeros(n, m) - Create tensors filled with 1's and 0's"
      ],
      "metadata": {
        "id": "8eR3aVnBw2Se"
      }
    },
    {
      "cell_type": "code",
      "source": [
        "torch.zeros(2,3)"
      ],
      "metadata": {
        "colab": {
          "base_uri": "https://localhost:8080/"
        },
        "id": "MJVjbGDJwzD7",
        "outputId": "b6affa9f-a783-42a2-bbda-a38ffae7274a"
      },
      "execution_count": 6,
      "outputs": [
        {
          "output_type": "execute_result",
          "data": {
            "text/plain": [
              "tensor([[0., 0., 0.],\n",
              "        [0., 0., 0.]])"
            ]
          },
          "metadata": {},
          "execution_count": 6
        }
      ]
    },
    {
      "cell_type": "markdown",
      "source": [
        "We can do standard math ops with tensors."
      ],
      "metadata": {
        "id": "bS_B90SaxQI6"
      }
    },
    {
      "cell_type": "code",
      "source": [
        "torch.ones(1,2) + torch.ones(1,2)"
      ],
      "metadata": {
        "colab": {
          "base_uri": "https://localhost:8080/"
        },
        "id": "1M9xBWzuxJi-",
        "outputId": "d75b950a-49e7-4ec2-bdbc-af85b8f6f61f"
      },
      "execution_count": 9,
      "outputs": [
        {
          "output_type": "execute_result",
          "data": {
            "text/plain": [
              "tensor([[2., 2.]])"
            ]
          },
          "metadata": {},
          "execution_count": 9
        }
      ]
    },
    {
      "cell_type": "markdown",
      "source": [
        "Value of tensor with rank 0 can be pullled out using item()"
      ],
      "metadata": {
        "id": "DhYw6K3zxp5h"
      }
    },
    {
      "cell_type": "code",
      "source": [
        "x = torch.rand(1)\n",
        "x.item()"
      ],
      "metadata": {
        "colab": {
          "base_uri": "https://localhost:8080/"
        },
        "id": "7cb2-1tzxf_J",
        "outputId": "9fafad99-0dc0-4307-9c91-29eee596cbe3"
      },
      "execution_count": 12,
      "outputs": [
        {
          "output_type": "execute_result",
          "data": {
            "text/plain": [
              "0.2747945785522461"
            ]
          },
          "metadata": {},
          "execution_count": 12
        }
      ]
    },
    {
      "cell_type": "markdown",
      "source": [
        "Tensors can either live on CPU or GPU. It can be copied between devices using to() function."
      ],
      "metadata": {
        "id": "MAs5lwQ3x-P6"
      }
    },
    {
      "cell_type": "code",
      "source": [
        "cpu_tensor = torch.rand(2)\n",
        "cpu_tensor.device"
      ],
      "metadata": {
        "colab": {
          "base_uri": "https://localhost:8080/"
        },
        "id": "N8xTtDUWx3e0",
        "outputId": "6fdbdd40-9fa6-4164-e0b9-94aba86089ae"
      },
      "execution_count": 2,
      "outputs": [
        {
          "output_type": "execute_result",
          "data": {
            "text/plain": [
              "device(type='cpu')"
            ]
          },
          "metadata": {},
          "execution_count": 2
        }
      ]
    },
    {
      "cell_type": "code",
      "source": [
        "gpu_tensor = cpu_tensor.to(\"cuda\")\n",
        "gpu_tensor.device"
      ],
      "metadata": {
        "colab": {
          "base_uri": "https://localhost:8080/"
        },
        "id": "FsIB77aEyPi3",
        "outputId": "5058508d-1ff9-4ee4-a751-866ddcda8bb1"
      },
      "execution_count": 3,
      "outputs": [
        {
          "output_type": "execute_result",
          "data": {
            "text/plain": [
              "device(type='cuda', index=0)"
            ]
          },
          "metadata": {},
          "execution_count": 3
        }
      ]
    },
    {
      "cell_type": "markdown",
      "source": [
        "## Tensor Operations"
      ],
      "metadata": {
        "id": "8Fwrk3BFyklr"
      }
    },
    {
      "cell_type": "markdown",
      "source": [
        "Finding the maximum item in a tensor - max()\\\n",
        "Finding the index that contains maximum value - argmax()"
      ],
      "metadata": {
        "id": "FGT93q9nywrS"
      }
    },
    {
      "cell_type": "code",
      "source": [
        "torch.rand(2,2).max()"
      ],
      "metadata": {
        "colab": {
          "base_uri": "https://localhost:8080/"
        },
        "id": "ACIQ3v-wyd15",
        "outputId": "4e167cca-3134-40d8-9c20-b0de78b9c678"
      },
      "execution_count": 7,
      "outputs": [
        {
          "output_type": "execute_result",
          "data": {
            "text/plain": [
              "tensor(0.7592)"
            ]
          },
          "metadata": {},
          "execution_count": 7
        }
      ]
    },
    {
      "cell_type": "code",
      "source": [
        "torch.rand(2,2).max().item()"
      ],
      "metadata": {
        "colab": {
          "base_uri": "https://localhost:8080/"
        },
        "id": "1S4FFomVzb73",
        "outputId": "3cefc6c8-1c34-4297-f525-4a896d03c43b"
      },
      "execution_count": 5,
      "outputs": [
        {
          "output_type": "execute_result",
          "data": {
            "text/plain": [
              "0.6985429525375366"
            ]
          },
          "metadata": {},
          "execution_count": 5
        }
      ]
    },
    {
      "cell_type": "markdown",
      "source": [
        "Changing the type of a tensor"
      ],
      "metadata": {
        "id": "_NYnwz7EzpQj"
      }
    },
    {
      "cell_type": "code",
      "source": [
        "long_tensor = torch.tensor([[0,0,1], [1,1,1], [0,0,0]])\n",
        "long_tensor.type()"
      ],
      "metadata": {
        "colab": {
          "base_uri": "https://localhost:8080/",
          "height": 35
        },
        "id": "zkpeWdggziAk",
        "outputId": "fdf93544-c81e-472e-b9ac-3609d9c54e43"
      },
      "execution_count": 9,
      "outputs": [
        {
          "output_type": "execute_result",
          "data": {
            "text/plain": [
              "'torch.LongTensor'"
            ],
            "application/vnd.google.colaboratory.intrinsic+json": {
              "type": "string"
            }
          },
          "metadata": {},
          "execution_count": 9
        }
      ]
    },
    {
      "cell_type": "code",
      "source": [
        "float_tensor = torch.tensor([[0,0,1], [1,1,1], [0,0,0]]).to(dtype=torch.float32)\n",
        "float_tensor.type()"
      ],
      "metadata": {
        "colab": {
          "base_uri": "https://localhost:8080/",
          "height": 35
        },
        "id": "r3w6sjAFz1N6",
        "outputId": "29cb83c8-4fe3-4891-9437-d1ac3bd6def2"
      },
      "execution_count": 10,
      "outputs": [
        {
          "output_type": "execute_result",
          "data": {
            "text/plain": [
              "'torch.FloatTensor'"
            ],
            "application/vnd.google.colaboratory.intrinsic+json": {
              "type": "string"
            }
          },
          "metadata": {},
          "execution_count": 10
        }
      ]
    },
    {
      "cell_type": "markdown",
      "source": [
        "Most functions that operate on tensor and return a tensor create a new tensor to store the results. If we want to save memory, we can look to see if an in-place function is defined. It has the same name as the original function but with an appeded underscore."
      ],
      "metadata": {
        "id": "CBKbX3ml0PDw"
      }
    },
    {
      "cell_type": "code",
      "source": [
        "random_tensor = torch.rand(2,2)\n",
        "random_tensor.log2()"
      ],
      "metadata": {
        "colab": {
          "base_uri": "https://localhost:8080/"
        },
        "id": "5oROww9b0F9m",
        "outputId": "65a2bbdb-b847-4c0d-e700-faa01040cd83"
      },
      "execution_count": 11,
      "outputs": [
        {
          "output_type": "execute_result",
          "data": {
            "text/plain": [
              "tensor([[-0.4188, -0.8251],\n",
              "        [-0.1884, -0.7878]])"
            ]
          },
          "metadata": {},
          "execution_count": 11
        }
      ]
    },
    {
      "cell_type": "code",
      "source": [
        "random_tensor.log2_()"
      ],
      "metadata": {
        "colab": {
          "base_uri": "https://localhost:8080/"
        },
        "id": "OaBmqxFU0rtl",
        "outputId": "ea9ac108-7cbd-4e5a-bad7-a4b84a7cb78f"
      },
      "execution_count": 12,
      "outputs": [
        {
          "output_type": "execute_result",
          "data": {
            "text/plain": [
              "tensor([[-0.4188, -0.8251],\n",
              "        [-0.1884, -0.7878]])"
            ]
          },
          "metadata": {},
          "execution_count": 12
        }
      ]
    },
    {
      "cell_type": "markdown",
      "source": [
        "## Reshaping tensors\n",
        "MNIST dataset of handwritten digits is a collection of 28x28 images.<br>\n",
        "But it is packaged in arrays of length 784.<br>\n",
        "We need to turn those back to 1x28x28 tensors\\(Number of channels, Number of rows, Number of columns).<br>\n",
        "We can do this using view() or reshape().<br>\n",
        "**Note**: Reshaped tensor has to have the same number of total elements as the original."
      ],
      "metadata": {
        "id": "Oadnlh3T00_A"
      }
    },
    {
      "cell_type": "code",
      "source": [
        "flat_tensor = torch.rand(784)\n",
        "viewed_tensor = flat_tensor.view(1,28,28)\n",
        "viewed_tensor.shape"
      ],
      "metadata": {
        "colab": {
          "base_uri": "https://localhost:8080/"
        },
        "id": "HSexyy_60wcZ",
        "outputId": "6ff22255-68c2-425e-ef75-e5b665fb0fdc"
      },
      "execution_count": 17,
      "outputs": [
        {
          "output_type": "execute_result",
          "data": {
            "text/plain": [
              "torch.Size([1, 28, 28])"
            ]
          },
          "metadata": {},
          "execution_count": 17
        }
      ]
    },
    {
      "cell_type": "code",
      "source": [
        "reshaped_tensor = flat_tensor.reshape(1,28,28)\n",
        "reshaped_tensor.shape"
      ],
      "metadata": {
        "colab": {
          "base_uri": "https://localhost:8080/"
        },
        "id": "uJ5Hs8AT10_y",
        "outputId": "1a7b4dc0-6428-43d5-f9bd-43b4c1def3af"
      },
      "execution_count": 18,
      "outputs": [
        {
          "output_type": "execute_result",
          "data": {
            "text/plain": [
              "torch.Size([1, 28, 28])"
            ]
          },
          "metadata": {},
          "execution_count": 18
        }
      ]
    },
    {
      "cell_type": "markdown",
      "source": [
        "### view() vs reshape()\n",
        "**view()** operates as a view of the original tensor. If underlying data is changed, view will change too. \\\n",
        "**view()** can throw error if the underlying view is not *contiguous*. \\\n",
        "If this happens call **tensor.contiguous()** before calling **view()**. \\\n",
        "**reshape()** does all these behind the scenes\n",
        "\n",
        "\n"
      ],
      "metadata": {
        "id": "CDscT81F2xKP"
      }
    },
    {
      "cell_type": "markdown",
      "source": [
        "### Rearranging dimensions of a tensor."
      ],
      "metadata": {
        "id": "Ktudi4Db4L0V"
      }
    },
    {
      "cell_type": "code",
      "source": [
        "hwc_tensor = torch.rand(640, 480, 3)\n",
        "chw_tensor = hwc_tensor.permute(2,0,1)\n",
        "chw_tensor.shape"
      ],
      "metadata": {
        "colab": {
          "base_uri": "https://localhost:8080/"
        },
        "id": "_8GjwSVu2p2p",
        "outputId": "75d7aa5e-a972-4f81-ed02-ab07b2df946d"
      },
      "execution_count": 19,
      "outputs": [
        {
          "output_type": "execute_result",
          "data": {
            "text/plain": [
              "torch.Size([3, 640, 480])"
            ]
          },
          "metadata": {},
          "execution_count": 19
        }
      ]
    },
    {
      "cell_type": "markdown",
      "source": [
        "## Tensor Broadcasting\n",
        "Helps us in performing operations between a tensor and a smaller tensor.\n",
        "https://pytorch.org/docs/stable/notes/broadcasting.html#broadcasting-semantics \\\n",
        "\n",
        "### General semantics\n",
        "Two tensors are “broadcastable” if the following rules hold:\n",
        "\n",
        "1. Each tensor has at least one dimension.\n",
        "\n",
        "2. When iterating over the dimension sizes, starting at the trailing dimension, the dimension sizes must either be equal, one of them is 1, or one of them does not exist.\n",
        "\n",
        "### Calculation of resulting tensor\n",
        "If two tensors x, y are **“broadcastable”**, the resulting tensor size is calculated as follows:\n",
        "\n",
        "1. If the number of dimensions of x and y are not equal, prepend 1 to the dimensions of the tensor with fewer dimensions to make them equal length.\n",
        "\n",
        "2. Then, for each dimension size, the resulting dimension size is the max of the sizes of x and y along that dimension."
      ],
      "metadata": {
        "id": "-gHcz9Ye4trW"
      }
    },
    {
      "cell_type": "code",
      "source": [
        "# can line up trailing dimensions to make reading easier\n",
        "x=torch.empty(5,1,4,1)\n",
        "y=torch.empty(  3,1,1)\n",
        "(x+y).size()"
      ],
      "metadata": {
        "colab": {
          "base_uri": "https://localhost:8080/"
        },
        "id": "P3Pl5qIx2BV4",
        "outputId": "0553762f-bc9b-443c-d348-1da1b7212312"
      },
      "execution_count": 22,
      "outputs": [
        {
          "output_type": "execute_result",
          "data": {
            "text/plain": [
              "torch.Size([5, 3, 4, 1])"
            ]
          },
          "metadata": {},
          "execution_count": 22
        }
      ]
    },
    {
      "cell_type": "code",
      "source": [
        "x=torch.empty(5,2,4,1)\n",
        "y=torch.empty(  3,1,1)\n",
        "(x+y).size()"
      ],
      "metadata": {
        "colab": {
          "base_uri": "https://localhost:8080/",
          "height": 176
        },
        "id": "ryNkE6DT86jA",
        "outputId": "95bec90c-8735-491d-cb8f-f2eabe85d035"
      },
      "execution_count": 24,
      "outputs": [
        {
          "output_type": "error",
          "ename": "RuntimeError",
          "evalue": "The size of tensor a (2) must match the size of tensor b (3) at non-singleton dimension 1",
          "traceback": [
            "\u001b[0;31m---------------------------------------------------------------------------\u001b[0m",
            "\u001b[0;31mRuntimeError\u001b[0m                              Traceback (most recent call last)",
            "\u001b[0;32m<ipython-input-24-953d6505a427>\u001b[0m in \u001b[0;36m<cell line: 3>\u001b[0;34m()\u001b[0m\n\u001b[1;32m      1\u001b[0m \u001b[0mx\u001b[0m\u001b[0;34m=\u001b[0m\u001b[0mtorch\u001b[0m\u001b[0;34m.\u001b[0m\u001b[0mempty\u001b[0m\u001b[0;34m(\u001b[0m\u001b[0;36m5\u001b[0m\u001b[0;34m,\u001b[0m\u001b[0;36m2\u001b[0m\u001b[0;34m,\u001b[0m\u001b[0;36m4\u001b[0m\u001b[0;34m,\u001b[0m\u001b[0;36m1\u001b[0m\u001b[0;34m)\u001b[0m\u001b[0;34m\u001b[0m\u001b[0;34m\u001b[0m\u001b[0m\n\u001b[1;32m      2\u001b[0m \u001b[0my\u001b[0m\u001b[0;34m=\u001b[0m\u001b[0mtorch\u001b[0m\u001b[0;34m.\u001b[0m\u001b[0mempty\u001b[0m\u001b[0;34m(\u001b[0m  \u001b[0;36m3\u001b[0m\u001b[0;34m,\u001b[0m\u001b[0;36m1\u001b[0m\u001b[0;34m,\u001b[0m\u001b[0;36m1\u001b[0m\u001b[0;34m)\u001b[0m\u001b[0;34m\u001b[0m\u001b[0;34m\u001b[0m\u001b[0m\n\u001b[0;32m----> 3\u001b[0;31m \u001b[0;34m(\u001b[0m\u001b[0mx\u001b[0m\u001b[0;34m+\u001b[0m\u001b[0my\u001b[0m\u001b[0;34m)\u001b[0m\u001b[0;34m.\u001b[0m\u001b[0msize\u001b[0m\u001b[0;34m(\u001b[0m\u001b[0;34m)\u001b[0m\u001b[0;34m\u001b[0m\u001b[0;34m\u001b[0m\u001b[0m\n\u001b[0m",
            "\u001b[0;31mRuntimeError\u001b[0m: The size of tensor a (2) must match the size of tensor b (3) at non-singleton dimension 1"
          ]
        }
      ]
    }
  ]
}